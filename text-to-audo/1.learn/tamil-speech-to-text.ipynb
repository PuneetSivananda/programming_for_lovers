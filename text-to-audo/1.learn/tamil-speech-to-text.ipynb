{
 "cells": [
  {
   "cell_type": "code",
   "execution_count": null,
   "metadata": {},
   "outputs": [],
   "source": [
    "# Speech To Text — Python\n",
    "# pip install SpeechRecognition\n",
    "# Download PyAudio from https://www.lfd.uci.edu/~gohlke/pythonlibs/#pyaudio\n",
    "# pip install PyAudio-0.2.11-cp37-cp37m-win_amd64.whl and NOT pip install PyAudio (Works only in Linux)\n",
    " \n",
    "import speech_recognition as sr \n",
    "r = sr.Recognizer()\n",
    "with sr.Microphone() as source:\n",
    "    print (\"Say Something in Tamil and pause, no need to press any key\")\n",
    "    audio = r.listen (source)\n",
    "    print (\"Got you\")\n",
    "try:\n",
    "    WhatUSpoke = r.recognize_google (audio, language=\"ta-IN\")\n",
    "    print (\"What you spoke (Google):\", WhatUSpoke)\n",
    "except:\n",
    "    pass"
   ]
  }
 ],
 "metadata": {
  "language_info": {
   "name": "python"
  },
  "orig_nbformat": 4
 },
 "nbformat": 4,
 "nbformat_minor": 2
}
