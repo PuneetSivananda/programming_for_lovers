{
 "cells": [
  {
   "cell_type": "code",
   "execution_count": null,
   "metadata": {},
   "outputs": [],
   "source": [
    "!pip  install gTTS"
   ]
  },
  {
   "cell_type": "code",
   "execution_count": null,
   "metadata": {},
   "outputs": [],
   "source": [
    "import gtts as gt \n",
    "import os      \n",
    "from IPython.display import Audio, display\n",
    "\n",
    "TamilText=\"\"\"\n",
    "கடவுள் வாழ்த்து பகவன் முதற்றே உலகு. அகர (அ) ஒலியே எல்லா எழுத்துக்களுக்கும் முதல்; அதுபோல, ஆதிபகவன் உலகிலுள்ள உயிர்கள் எல்லாவற்றிற்கும் முதல்வனாக இருக்கிறான்.\n",
    "\"\"\"\n",
    "tts = gt.gTTS(text=TamilText, lang='ta')\n",
    "tts.save(\"Tamil-Audio.mp3\")\n",
    "\n",
    "display(Audio(\"Tamil-Audio.mp3\", autoplay=True))"
   ]
  }
 ],
 "metadata": {
  "language_info": {
   "name": "python"
  },
  "orig_nbformat": 4
 },
 "nbformat": 4,
 "nbformat_minor": 2
}
